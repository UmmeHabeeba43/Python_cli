{
 "cells": [
  {
   "cell_type": "code",
   "execution_count": 8,
   "id": "bfb24690-fad4-4543-bc81-e99fea7e0d33",
   "metadata": {},
   "outputs": [],
   "source": [
    "import requests"
   ]
  },
  {
   "cell_type": "code",
   "execution_count": 29,
   "id": "8cfda46a-3111-4e9a-8dd4-a4966c3e7860",
   "metadata": {},
   "outputs": [
    {
     "name": "stdin",
     "output_type": "stream",
     "text": [
      "What are you interested in? india\n"
     ]
    },
    {
     "name": "stdout",
     "output_type": "stream",
     "text": [
      "1 SpaceX launch of private Ax-4 astronauts postponed indefinitely due to leaky ISS module\n",
      "🔗 https://www.space.com/space-exploration/private-spaceflight/spacex-launch-of-private-ax-4-astronauts-postponed-indefinitely-due-to-leaky-iss-module\n",
      "------------------------------------------------------------------------------------------------------------------------------------------------------\n",
      "2 Boeing’s troubled era has dimmed the prospects of a preeminent American manufacturer\n",
      "🔗 https://financialpost.com/pmn/boeings-troubled-era-has-dimmed-the-prospects-of-a-preeminent-american-manufacturer\n",
      "------------------------------------------------------------------------------------------------------------------------------------------------------\n",
      "3 Queda de avião. O que se sabe e falta saber\n",
      "🔗 https://observador.pt/2025/06/12/o-que-se-sabe-e-o-que-falta-saber-sobre-a-queda-do-aviao-na-india/\n",
      "------------------------------------------------------------------------------------------------------------------------------------------------------\n",
      "4 Mc i krock med bil – två till sjukhus\n",
      "🔗 https://www.aftonbladet.se/nyheter/a/Rr77qd/aftonbladet-direkt?pinnedEntry=1385076\n",
      "------------------------------------------------------------------------------------------------------------------------------------------------------\n",
      "5 Ходорковский LIVE: ⚡️ НОВОСТИ | РУХНУЛ САМОЛЕТ. БОЛЕЕ 200 ПОГИБШИХ | РЕГИОНЫ ПРОТЕСТУЮТ | СБОЙ ИНТЕРНЕТА В РОССИИ (2025-12-06)\n",
      "🔗 https://www.youtube.com/supported_browsers?next_url=https%3A%2F%2Fwww.youtube.com%2Fwatch%3Fv%3DqmVrLRROUl8\n",
      "------------------------------------------------------------------------------------------------------------------------------------------------------\n"
     ]
    }
   ],
   "source": [
    "query = input(\"What are you interested in?\")\n",
    "api = \"e17b2403b3b54397b6a11219e34ff09c\"\n",
    "url = f\"https://newsapi.org/v2/everything?q={query}&from=2025-05-13&sortBy=publishedAt&apiKey={api}\"\n",
    "r = requests.get(url)\n",
    "data = r.json()\n",
    "articles = data[\"articles\"]\n",
    "\n",
    "for index, article in enumerate(articles[:5]):\n",
    "    print(index + 1,article['title'])\n",
    "    print(f\"🔗 {article['url']}\")\n",
    "    print(\"-\" * 150)"
   ]
  },
  {
   "cell_type": "code",
   "execution_count": 33,
   "id": "8543c191-a5c3-4704-8490-31627f7cd31d",
   "metadata": {},
   "outputs": [
    {
     "data": {
      "text/plain": [
       "array([ 1, -1])"
      ]
     },
     "execution_count": 33,
     "metadata": {},
     "output_type": "execute_result"
    }
   ],
   "source": [
    "import numpy as np\n",
    "np.array([1,-1])*np.array([1,1])\n"
   ]
  },
  {
   "cell_type": "code",
   "execution_count": 35,
   "id": "8e21689f-1615-4135-b825-a7d66e0ce8c4",
   "metadata": {},
   "outputs": [
    {
     "data": {
      "text/plain": [
       "0"
      ]
     },
     "execution_count": 35,
     "metadata": {},
     "output_type": "execute_result"
    }
   ],
   "source": [
    "np.dot(np.array([1,-1]), np.array([1,1]))"
   ]
  },
  {
   "cell_type": "code",
   "execution_count": null,
   "id": "da94d52e-966a-4e4d-8b4e-ae1b408a4710",
   "metadata": {},
   "outputs": [],
   "source": []
  }
 ],
 "metadata": {
  "kernelspec": {
   "display_name": "Python 3 (ipykernel)",
   "language": "python",
   "name": "python3"
  },
  "language_info": {
   "codemirror_mode": {
    "name": "ipython",
    "version": 3
   },
   "file_extension": ".py",
   "mimetype": "text/x-python",
   "name": "python",
   "nbconvert_exporter": "python",
   "pygments_lexer": "ipython3",
   "version": "3.12.7"
  }
 },
 "nbformat": 4,
 "nbformat_minor": 5
}
