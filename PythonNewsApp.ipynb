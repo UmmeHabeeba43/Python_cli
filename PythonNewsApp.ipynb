{
 "cells": [
  {
   "cell_type": "code",
   "execution_count": 8,
   "id": "bfb24690-fad4-4543-bc81-e99fea7e0d33",
   "metadata": {},
   "outputs": [],
   "source": [
    "import requests"
   ]
  },
  {
   "cell_type": "code",
   "execution_count": 29,
   "id": "8cfda46a-3111-4e9a-8dd4-a4966c3e7860",
   "metadata": {},
   "outputs": [
    {
     "name": "stdin",
     "output_type": "stream",
     "text": [
      "What are you interested in? india\n"
     ]
    },
    {
     "name": "stdout",
     "output_type": "stream",
     "text": [
      "1 SpaceX launch of private Ax-4 astronauts postponed indefinitely due to leaky ISS module\n",
      "🔗 https://www.space.com/space-exploration/private-spaceflight/spacex-launch-of-private-ax-4-astronauts-postponed-indefinitely-due-to-leaky-iss-module\n",
      "------------------------------------------------------------------------------------------------------------------------------------------------------\n",
      "2 Boeing’s troubled era has dimmed the prospects of a preeminent American manufacturer\n",
      "🔗 https://financialpost.com/pmn/boeings-troubled-era-has-dimmed-the-prospects-of-a-preeminent-american-manufacturer\n",
      "------------------------------------------------------------------------------------------------------------------------------------------------------\n",
      "3 Queda de avião. O que se sabe e falta saber\n",
      "🔗 https://observador.pt/2025/06/12/o-que-se-sabe-e-o-que-falta-saber-sobre-a-queda-do-aviao-na-india/\n",
      "------------------------------------------------------------------------------------------------------------------------------------------------------\n",
      "4 Mc i krock med bil – två till sjukhus\n",
      "🔗 https://www.aftonbladet.se/nyheter/a/Rr77qd/aftonbladet-direkt?pinnedEntry=1385076\n",
      "------------------------------------------------------------------------------------------------------------------------------------------------------\n",
      "5 Ходорковский LIVE: ⚡️ НОВОСТИ | РУХНУЛ САМОЛЕТ. БОЛЕЕ 200 ПОГИБШИХ | РЕГИОНЫ ПРОТЕСТУЮТ | СБОЙ ИНТЕРНЕТА В РОССИИ (2025-12-06)\n",
      "🔗 https://www.youtube.com/supported_browsers?next_url=https%3A%2F%2Fwww.youtube.com%2Fwatch%3Fv%3DqmVrLRROUl8\n",
      "------------------------------------------------------------------------------------------------------------------------------------------------------\n"
     ]
    }
   ],
   "source": [
    "query = input(\"What are you interested in?\")\n",
    "api = \"e17b2403b3b54397b6a11219e34ff09c\"\n",
    "url = f\"https://newsapi.org/v2/everything?q={query}&from=2025-05-13&sortBy=publishedAt&apiKey={api}\"\n",
    "r = requests.get(url)\n",
    "data = r.json()\n",
    "articles = data[\"articles\"]\n",
    "\n",
    "for index, article in enumerate(articles[:5]):\n",
    "    print(index + 1,article['title'])\n",
    "    print(f\"🔗 {article['url']}\")\n",
    "    print(\"-\" * 150)"
   ]
  }
